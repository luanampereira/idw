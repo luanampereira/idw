{
 "cells": [
  {
   "cell_type": "code",
   "execution_count": 1,
   "metadata": {},
   "outputs": [],
   "source": [
    "import numpy as np\n",
    "import matplotlib.pyplot as plt\n",
    "\n",
    "\n",
    "X = [0, 4, 6, 8]\n",
    "Y = [0, 0, 0, 0]\n",
    "dist = []\n",
    "W = []\n",
    "Final = []\n",
    "\n",
    "U = [5.5, 0]\n",
    "\n",
    "J = len(X)"
   ]
  },
  {
   "cell_type": "code",
   "execution_count": 2,
   "metadata": {},
   "outputs": [
    {
     "name": "stdout",
     "output_type": "stream",
     "text": [
      "5.5\n",
      "0\n",
      "1.5\n",
      "1\n",
      "0.5\n",
      "2\n",
      "2.5\n",
      "3\n"
     ]
    }
   ],
   "source": [
    "contador = 0\n",
    "contador2 = 0\n",
    "contador3 = 0\n",
    "\n",
    "while (contador < len(X)):\n",
    "    \n",
    "    #raiz do quadrado das diferenças das coordenadas \n",
    "    A = ((U[0] - X[contador])**2 + (U[1] - Y[contador])**2)**(1/2)\n",
    "    dist.append(A)\n",
    "    print(A)\n",
    "    print(contador)\n",
    "    contador = contador + 1\n",
    "    \n",
    "while (contador2 < len(X)):\n",
    "    # weight = inverso da distância \n",
    "    W.append(1/dist[contador2]) \n",
    "    contador2 = contador2 + 1\n",
    "    \n",
    "while (contador3 < len(W)):\n",
    "    Final.append(W[contador3]/sum(W))\n",
    "    contador3 = contador3 + 1"
   ]
  },
  {
   "cell_type": "code",
   "execution_count": 3,
   "metadata": {},
   "outputs": [
    {
     "data": {
      "image/png": "[encoded data removed]",
      "text/plain": [
       "<Figure size 432x288 with 1 Axes>"
      ]
     },
     "metadata": {
      "needs_background": "light"
     },
     "output_type": "display_data"
    }
   ],
   "source": [
    "bars = ('A', 'B', 'C', 'D')    \n",
    "y_pos = np.arange(len(bars))\n",
    "plt.bar(y_pos, Final)\n",
    "\n",
    "plt.xticks(y_pos, bars)\n",
    "\n",
    "plt.show()"
   ]
  }
 ],
 "metadata": {
  "kernelspec": {
   "display_name": "Python 3",
   "language": "python",
   "name": "python3"
  },
  "language_info": {
   "codemirror_mode": {
    "name": "ipython",
    "version": 3
   },
   "file_extension": ".py",
   "mimetype": "text/x-python",
   "name": "python",
   "nbconvert_exporter": "python",
   "pygments_lexer": "ipython3",
   "version": "3.8.5"
  },
  "toc": {
   "base_numbering": 1,
   "nav_menu": {},
   "number_sections": true,
   "sideBar": true,
   "skip_h1_title": false,
   "title_cell": "Table of Contents",
   "title_sidebar": "Contents",
   "toc_cell": false,
   "toc_position": {},
   "toc_section_display": true,
   "toc_window_display": true
  },
  "varInspector": {
   "cols": {
    "lenName": 16,
    "lenType": 16,
    "lenVar": 40
   },
   "kernels_config": {
    "python": {
     "delete_cmd_postfix": "",
     "delete_cmd_prefix": "del ",
     "library": "var_list.py",
     "varRefreshCmd": "print(var_dic_list())"
    },
    "r": {
     "delete_cmd_postfix": ") ",
     "delete_cmd_prefix": "rm(",
     "library": "var_list.r",
     "varRefreshCmd": "cat(var_dic_list()) "
    }
   },
   "types_to_exclude": [
    "module",
    "function",
    "builtin_function_or_method",
    "instance",
    "_Feature"
   ],
   "window_display": false
  }
 },
 "nbformat": 4,
 "nbformat_minor": 4
}
